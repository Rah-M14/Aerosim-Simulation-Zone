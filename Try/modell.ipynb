{
 "cells": [
  {
   "cell_type": "code",
   "execution_count": 86,
   "metadata": {},
   "outputs": [],
   "source": [
    "import torch\n",
    "from torch import nn\n",
    "import os\n",
    "import numpy as np\n",
    "import math"
   ]
  },
  {
   "cell_type": "code",
   "execution_count": 87,
   "metadata": {},
   "outputs": [
    {
     "name": "stderr",
     "output_type": "stream",
     "text": [
      "C:\\Users\\rahat\\AppData\\Local\\Temp\\ipykernel_22376\\1467683481.py:22: FutureWarning: You are using `torch.load` with `weights_only=False` (the current default value), which uses the default pickle module implicitly. It is possible to construct malicious pickle data which will execute arbitrary code during unpickling (See https://github.com/pytorch/pytorch/blob/main/SECURITY.md#untrusted-models for more details). In a future release, the default value for `weights_only` will be flipped to `True`. This limits the functions that could be executed during unpickling. Arbitrary objects will no longer be allowed to be loaded via this mode unless they are explicitly allowlisted by the user via `torch.serialization.add_safe_globals`. We recommend you start setting `weights_only=True` for any use case where you don't have full control of the loaded file. Please open an issue on GitHub for any issues related to this experimental feature.\n",
      "  net = torch.load(r\"nav_model.pth\")\n"
     ]
    }
   ],
   "source": [
    "\n",
    "class NavigationNet(torch.nn.Module):\n",
    "    def __init__(self):\n",
    "        super().__init__()\n",
    "        self.control_net = torch.nn.Sequential(\n",
    "            torch.nn.Linear(6, 16),  # Input: [bot_x, bot_y, goal_x, goal_y, world_theta, relative_theta]\n",
    "            torch.nn.ReLU(),\n",
    "            torch.nn.Linear(16, 32),\n",
    "            torch.nn.ReLU(),\n",
    "            torch.nn.Linear(32, 64),\n",
    "            torch.nn.ReLU(),\n",
    "            torch.nn.Linear(64, 32),\n",
    "            torch.nn.ReLU(),\n",
    "            torch.nn.Linear(32, 16),\n",
    "            torch.nn.ReLU(),\n",
    "            torch.nn.Linear(16, 2), # Output: [L, delta_theta]\n",
    "            torch.nn.Tanh()  # Tanh activation for bounded output\n",
    "        )\n",
    "        \n",
    "    def forward(self, current_state):\n",
    "        return self.control_net(current_state)\n",
    "\n",
    "net = torch.load(r\"nav_model.pth\")\n"
   ]
  },
  {
   "cell_type": "code",
   "execution_count": 88,
   "metadata": {},
   "outputs": [],
   "source": [
    "torch.save(net.state_dict(), \"ext_nav_model.pth\")"
   ]
  },
  {
   "cell_type": "code",
   "execution_count": 89,
   "metadata": {},
   "outputs": [
    {
     "name": "stdout",
     "output_type": "stream",
     "text": [
      "control_net.0.weight\n",
      "control_net.0.bias\n",
      "control_net.2.weight\n",
      "control_net.2.bias\n",
      "control_net.4.weight\n",
      "control_net.4.bias\n",
      "control_net.6.weight\n",
      "control_net.6.bias\n",
      "control_net.8.weight\n",
      "control_net.8.bias\n",
      "control_net.10.weight\n",
      "control_net.10.bias\n"
     ]
    },
    {
     "name": "stderr",
     "output_type": "stream",
     "text": [
      "C:\\Users\\rahat\\AppData\\Local\\Temp\\ipykernel_22376\\53360204.py:1: FutureWarning: You are using `torch.load` with `weights_only=False` (the current default value), which uses the default pickle module implicitly. It is possible to construct malicious pickle data which will execute arbitrary code during unpickling (See https://github.com/pytorch/pytorch/blob/main/SECURITY.md#untrusted-models for more details). In a future release, the default value for `weights_only` will be flipped to `True`. This limits the functions that could be executed during unpickling. Arbitrary objects will no longer be allowed to be loaded via this mode unless they are explicitly allowlisted by the user via `torch.serialization.add_safe_globals`. We recommend you start setting `weights_only=True` for any use case where you don't have full control of the loaded file. Please open an issue on GitHub for any issues related to this experimental feature.\n",
      "  model1 = torch.load(r\"ext_nav_model.pth\")\n"
     ]
    }
   ],
   "source": [
    "model1 = torch.load(r\"ext_nav_model.pth\")\n",
    "\n",
    "for key in model1:\n",
    "    print(key)\n"
   ]
  },
  {
   "cell_type": "code",
   "execution_count": 91,
   "metadata": {},
   "outputs": [
    {
     "name": "stdout",
     "output_type": "stream",
     "text": [
      "_orig_mod.log_std\n",
      "_orig_mod.mlp_extractor.policy_net.0.weight\n",
      "_orig_mod.mlp_extractor.policy_net.0.bias\n",
      "_orig_mod.mlp_extractor.policy_net.2.weight\n",
      "_orig_mod.mlp_extractor.policy_net.2.bias\n",
      "_orig_mod.mlp_extractor.policy_net.4.weight\n",
      "_orig_mod.mlp_extractor.policy_net.4.bias\n",
      "_orig_mod.mlp_extractor.policy_net.6.weight\n",
      "_orig_mod.mlp_extractor.policy_net.6.bias\n",
      "_orig_mod.action_net.weight\n",
      "_orig_mod.action_net.bias\n",
      "_orig_mod.value_net.weight\n",
      "_orig_mod.value_net.bias\n"
     ]
    },
    {
     "name": "stderr",
     "output_type": "stream",
     "text": [
      "C:\\Users\\rahat\\AppData\\Local\\Temp\\ipykernel_22376\\583094147.py:1: FutureWarning: You are using `torch.load` with `weights_only=False` (the current default value), which uses the default pickle module implicitly. It is possible to construct malicious pickle data which will execute arbitrary code during unpickling (See https://github.com/pytorch/pytorch/blob/main/SECURITY.md#untrusted-models for more details). In a future release, the default value for `weights_only` will be flipped to `True`. This limits the functions that could be executed during unpickling. Arbitrary objects will no longer be allowed to be loaded via this mode unless they are explicitly allowlisted by the user via `torch.serialization.add_safe_globals`. We recommend you start setting `weights_only=True` for any use case where you don't have full control of the loaded file. Please open an issue on GitHub for any issues related to this experimental feature.\n",
      "  model2 = torch.load(r\"F:\\Aerosim-Simulation-Zone\\TEST_FILES\\New_final_bc_policy.pth\")\n"
     ]
    }
   ],
   "source": [
    "model2 = torch.load(r\"F:\\Aerosim-Simulation-Zone\\TEST_FILES\\New_final_bc_policy.pth\")\n",
    "\n",
    "for key,_ in model2['model_state_dict'].items():\n",
    "    print(key)"
   ]
  },
  {
   "cell_type": "code",
   "execution_count": 92,
   "metadata": {},
   "outputs": [
    {
     "name": "stdout",
     "output_type": "stream",
     "text": [
      "log_std\n",
      "mlp_extractor.policy_net.0.weight\n",
      "mlp_extractor.policy_net.0.bias\n",
      "mlp_extractor.policy_net.2.weight\n",
      "mlp_extractor.policy_net.2.bias\n",
      "mlp_extractor.policy_net.4.weight\n",
      "mlp_extractor.policy_net.4.bias\n",
      "mlp_extractor.policy_net.6.weight\n",
      "mlp_extractor.policy_net.6.bias\n",
      "mlp_extractor.policy_net.8.weight\n",
      "mlp_extractor.policy_net.8.bias\n",
      "action_net.0.weight\n",
      "action_net.0.bias\n"
     ]
    },
    {
     "name": "stderr",
     "output_type": "stream",
     "text": [
      "C:\\Users\\rahat\\AppData\\Local\\Temp\\ipykernel_22376\\3188583688.py:12: FutureWarning: You are using `torch.load` with `weights_only=False` (the current default value), which uses the default pickle module implicitly. It is possible to construct malicious pickle data which will execute arbitrary code during unpickling (See https://github.com/pytorch/pytorch/blob/main/SECURITY.md#untrusted-models for more details). In a future release, the default value for `weights_only` will be flipped to `True`. This limits the functions that could be executed during unpickling. Arbitrary objects will no longer be allowed to be loaded via this mode unless they are explicitly allowlisted by the user via `torch.serialization.add_safe_globals`. We recommend you start setting `weights_only=True` for any use case where you don't have full control of the loaded file. Please open an issue on GitHub for any issues related to this experimental feature.\n",
      "  model1 = torch.load(\"ext_nav_model.pth\")\n",
      "C:\\Users\\rahat\\AppData\\Local\\Temp\\ipykernel_22376\\3188583688.py:13: FutureWarning: You are using `torch.load` with `weights_only=False` (the current default value), which uses the default pickle module implicitly. It is possible to construct malicious pickle data which will execute arbitrary code during unpickling (See https://github.com/pytorch/pytorch/blob/main/SECURITY.md#untrusted-models for more details). In a future release, the default value for `weights_only` will be flipped to `True`. This limits the functions that could be executed during unpickling. Arbitrary objects will no longer be allowed to be loaded via this mode unless they are explicitly allowlisted by the user via `torch.serialization.add_safe_globals`. We recommend you start setting `weights_only=True` for any use case where you don't have full control of the loaded file. Please open an issue on GitHub for any issues related to this experimental feature.\n",
      "  model2 = torch.load(r\"F:\\Aerosim-Simulation-Zone\\TEST_FILES\\final_bc_policy.pth\")\n",
      "C:\\Users\\rahat\\AppData\\Local\\Temp\\ipykernel_22376\\3188583688.py:29: FutureWarning: You are using `torch.load` with `weights_only=False` (the current default value), which uses the default pickle module implicitly. It is possible to construct malicious pickle data which will execute arbitrary code during unpickling (See https://github.com/pytorch/pytorch/blob/main/SECURITY.md#untrusted-models for more details). In a future release, the default value for `weights_only` will be flipped to `True`. This limits the functions that could be executed during unpickling. Arbitrary objects will no longer be allowed to be loaded via this mode unless they are explicitly allowlisted by the user via `torch.serialization.add_safe_globals`. We recommend you start setting `weights_only=True` for any use case where you don't have full control of the loaded file. Please open an issue on GitHub for any issues related to this experimental feature.\n",
      "  model3 = torch.load(\"updated_policy.pth\")\n"
     ]
    }
   ],
   "source": [
    "# Create a mapping dictionary for the networks\n",
    "mapping = {\n",
    "    'control_net.0': 'mlp_extractor.policy_net.0',\n",
    "    'control_net.2': 'mlp_extractor.policy_net.2',\n",
    "    'control_net.4': 'mlp_extractor.policy_net.4',\n",
    "    'control_net.6': 'mlp_extractor.policy_net.6',\n",
    "    'control_net.8': 'mlp_extractor.policy_net.8',\n",
    "    'control_net.10': 'action_net.0'\n",
    "}\n",
    "\n",
    "# Load both models\n",
    "model1 = torch.load(\"ext_nav_model.pth\")\n",
    "model2 = torch.load(r\"F:\\Aerosim-Simulation-Zone\\TEST_FILES\\final_bc_policy.pth\")\n",
    "\n",
    "# Create new state dict for model2\n",
    "new_state_dict = {}\n",
    "\n",
    "# Handle log_std - initialize it with small negative values for stable training\n",
    "new_state_dict['log_std'] = torch.ones(model2['model_state_dict']['_orig_mod.log_std'].shape) * -2.0\n",
    "\n",
    "# Transfer weights and remove '_orig_mod' prefix\n",
    "for old_key, new_key in mapping.items():\n",
    "    new_state_dict[f'{new_key}.weight'] = model1[f'{old_key}.weight']\n",
    "    new_state_dict[f'{new_key}.bias'] = model1[f'{old_key}.bias']\n",
    "\n",
    "# Save the updated model\n",
    "torch.save({'model_state_dict': new_state_dict}, \"updated_policy.pth\")\n",
    "\n",
    "model3 = torch.load(\"updated_policy.pth\")\n",
    "\n",
    "for key,_ in model3['model_state_dict'].items():\n",
    "    print(key)\n"
   ]
  },
  {
   "cell_type": "code",
   "execution_count": 97,
   "metadata": {},
   "outputs": [],
   "source": [
    "import matplotlib.pyplot as plt\n",
    "import torch\n",
    "\n",
    "def plot_trajectory(net, initial_pos, goal_pos, max_steps=12):\n",
    "    with torch.no_grad():\n",
    "        current_pos = initial_pos.clone()\n",
    "        goal_pos = goal_pos.clone()\n",
    "        \n",
    "        theta = torch.zeros_like(current_pos[0])\n",
    "        positions = []\n",
    "        \n",
    "        for stp in range(max_steps):\n",
    "            delta_pos = goal_pos - current_pos\n",
    "            relative_theta = torch.atan2(delta_pos[1], delta_pos[0]) - theta\n",
    "\n",
    "            relative_theta = (relative_theta + np.pi) % (2 * np.pi) - np.pi\n",
    "\n",
    "            print(np.array([current_pos[0]/10, current_pos[1]/7]), np.array([goal_pos[0]/10, goal_pos[1]/7]), np.array([theta.item()/np.pi, relative_theta.item()/np.pi]))\n",
    "\n",
    "            net_input = torch.stack([\n",
    "                current_pos[0]/10, current_pos[1]/7,\n",
    "                goal_pos[0]/10, goal_pos[1]/7,\n",
    "                theta/np.pi, relative_theta/np.pi\n",
    "            ], dim=-1).unsqueeze(0)\n",
    "            \n",
    "            controls = net(net_input)[0]\n",
    "            L = controls[0]\n",
    "            delta_theta = controls[1]*np.pi\n",
    "\n",
    "            # print(L, delta_theta, theta, torch.clip(delta_theta, -np.pi/9, np.pi/9))\n",
    "\n",
    "            theta = theta + delta_theta\n",
    "            theta = (theta + np.pi) % (2 * np.pi) - np.pi \n",
    "\n",
    "            # print(\"step\", stp, \" \", np.rad2deg(theta), net_input)\n",
    "        \n",
    "            # theta += delta_theta\n",
    "            movement = torch.stack([\n",
    "                L * torch.cos(theta),\n",
    "                L * torch.sin(theta)\n",
    "            ])\n",
    "            \n",
    "            current_pos += movement\n",
    "            # Append a copy of the numpy array to avoid reference issues\n",
    "            positions.append(current_pos.cpu().numpy().copy())  # Fixed line\n",
    "\n",
    "            print(f\"Actions: {L.item(), delta_theta.item()/np.pi}\")\n",
    "            # print(np.array([current_pos[0]/10, current_pos[1]/7]), np.array([goal_pos[0]/10, goal_pos[1]/7]), theta.item()/np.pi, relative_theta.item()/np.pi)\n",
    "            \n",
    "            if torch.norm(delta_pos) < 0.1:\n",
    "                break\n",
    "        \n",
    "        positions = np.array(positions)\n",
    "        # Rest of the plotting code remains the same\n",
    "        plt.figure(figsize=(8, 6))\n",
    "        plt.plot(positions[:, 0], positions[:, 1], 'b-o', markersize=4, label='Path')\n",
    "        plt.scatter(positions[0, 0], positions[0, 1], c='green', s=200, marker='*', label='Start')\n",
    "        plt.scatter(goal_pos[0].item(), goal_pos[1].item(), c='red', s=200, marker='X', label='Goal')\n",
    "        plt.title(\"Navigation Trajectory\")\n",
    "        plt.xlabel(\"X\")\n",
    "        plt.ylabel(\"Y\")\n",
    "        plt.grid(True)\n",
    "        plt.axis('equal')\n",
    "        plt.legend()\n",
    "        plt.show()\n"
   ]
  },
  {
   "cell_type": "code",
   "execution_count": 102,
   "metadata": {},
   "outputs": [
    {
     "name": "stdout",
     "output_type": "stream",
     "text": [
      "[ 0.00099328 -0.37330168] [-0.19652966 -0.3744186 ] [ 0.         -0.99874009]\n",
      "Actions: (0.9961563944816589, -1.0000000278275352)\n",
      "[-0.09862236 -0.37330168] [-0.19652966 -0.3744186 ] [-1.00000003  0.00254189]\n",
      "Actions: (-0.99410080909729, -0.9915658825674312)\n",
      "[-0.19799754 -0.37706408] [-0.19652966 -0.3744186 ] [0.00843407 0.27821888]\n",
      "Actions: (-0.0643571987748146, -0.6148203129395964)\n"
     ]
    },
    {
     "data": {
      "image/png": "[encoded data removed]",
      "text/plain": [
       "<Figure size 800x600 with 1 Axes>"
      ]
     },
     "metadata": {},
     "output_type": "display_data"
    }
   ],
   "source": [
    "with torch.no_grad():\n",
    "    initial_torch = torch.tensor([ 0.00099328*10, -0.37330166 *7], dtype=torch.float32)\n",
    "    goal_torch = torch.tensor([-0.19652966*10, -0.3744186*7], dtype=torch.float32)\n",
    "    plot_trajectory(net, initial_torch, goal_torch, 60)"
   ]
  },
  {
   "cell_type": "code",
   "execution_count": null,
   "metadata": {},
   "outputs": [],
   "source": []
  }
 ],
 "metadata": {
  "kernelspec": {
   "display_name": "pde",
   "language": "python",
   "name": "python3"
  },
  "language_info": {
   "codemirror_mode": {
    "name": "ipython",
    "version": 3
   },
   "file_extension": ".py",
   "mimetype": "text/x-python",
   "name": "python",
   "nbconvert_exporter": "python",
   "pygments_lexer": "ipython3",
   "version": "3.10.16"
  }
 },
 "nbformat": 4,
 "nbformat_minor": 2
}
