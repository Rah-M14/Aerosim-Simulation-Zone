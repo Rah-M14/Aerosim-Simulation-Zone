{
 "cells": [
  {
   "cell_type": "code",
   "execution_count": 1,
   "metadata": {},
   "outputs": [
    {
     "name": "stdout",
     "output_type": "stream",
     "text": [
      "['\"\"', '\"female_adult_police_01_new\"', '\"\"', '\"female_adult_police_02\"', '\"\"', '\"female_adult_police_03_new\"', '\"\"', '\"male_adult_construction_01_new\"', '\"\"', '\"male_adult_construction_03\"', '\"\"', '\"male_adult_construction_05_new\"', '\"\"', '\"male_adult_police_04\"', '\"\"', '\"original_female_adult_business_02\"', '\"\"', '\"original_female_adult_medical_01\"', '\"\"', '\"original_female_adult_police_01\"', '\"\"', '\"original_female_adult_police_02\"', '\"\"', '\"original_female_adult_police_03\"', '\"\"', '\"original_male_adult_construction_01\"', '\"\"', '\"original_male_adult_construction_02\"', '\"\"', '\"original_male_adult_construction_03\"', '\"\"', '\"original_male_adult_construction_05\"', '\"\"', '\"original_male_adult_medical_01\"', '\"\"', '\"original_male_adult_police_04\"']\n"
     ]
    }
   ],
   "source": [
    "data = \"\"\"\n",
    "female_adult_police_01_new\n",
    "<class 'str'>\n",
    "female_adult_police_02\n",
    "<class 'str'>\n",
    "female_adult_police_03_ne\n",
    "<class 'str'>\n",
    "male_adult_construction_01_new\n",
    "<class 'str'>\n",
    "male_adult_construction_03\n",
    "<class 'str'>\n",
    "male_adult_construction_05_new\n",
    "<class 'str'>\n",
    "male_adult_police_04\n",
    "<class 'str'>\n",
    "original_female_adult_business_02\n",
    "<class 'str'>\n",
    "original_female_adult_medical_01\n",
    "<class 'str'>\n",
    "original_female_adult_police_01\n",
    "<class 'str'>\n",
    "original_female_adult_police_02\n",
    "<class 'str'>\n",
    "original_female_adult_police_03\n",
    "<class 'str'>\n",
    "original_male_adult_construction_01\n",
    "<class 'str'>\n",
    "original_male_adult_construction_02\n",
    "<class 'str'>\n",
    "original_male_adult_construction_03\n",
    "<class 'str'>\n",
    "original_male_adult_construction_05\n",
    "<class 'str'>\n",
    "original_male_adult_medical_01\n",
    "<class 'str'>\n",
    "original_male_adult_police_04\n",
    "\"\"\"\n",
    "\n",
    "# Process the data\n",
    "lines = data.splitlines()\n",
    "cleaned_lines = [line.replace(\"<class 'str'>\", \"\") for line in lines]\n",
    "final_list = [\"\\\"\" + line + \"\\\"\" for line in cleaned_lines]\n",
    "\n",
    "# Print the final list\n",
    "print(final_list)"
   ]
  },
  {
   "cell_type": "code",
   "execution_count": null,
   "metadata": {},
   "outputs": [],
   "source": []
  }
 ],
 "metadata": {
  "kernelspec": {
   "display_name": "env_isaacsim",
   "language": "python",
   "name": "python3"
  },
  "language_info": {
   "codemirror_mode": {
    "name": "ipython",
    "version": 3
   },
   "file_extension": ".py",
   "mimetype": "text/x-python",
   "name": "python",
   "nbconvert_exporter": "python",
   "pygments_lexer": "ipython3",
   "version": "3.10.14"
  }
 },
 "nbformat": 4,
 "nbformat_minor": 2
}
