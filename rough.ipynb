{
 "cells": [
  {
   "cell_type": "code",
   "execution_count": 1,
   "metadata": {},
   "outputs": [],
   "source": [
    "import random\n",
    "import numpy as np"
   ]
  },
  {
   "cell_type": "code",
   "execution_count": 5,
   "metadata": {},
   "outputs": [
    {
     "name": "stdout",
     "output_type": "stream",
     "text": [
      "25.45584412271571\n"
     ]
    }
   ],
   "source": [
    "a = np.array([9, 9])\n",
    "b = np.array([-9, -9])\n",
    "ab_dist = np.linalg.norm(a - b)\n",
    "print(ab_dist)"
   ]
  },
  {
   "cell_type": "code",
   "execution_count": 16,
   "metadata": {},
   "outputs": [
    {
     "name": "stdout",
     "output_type": "stream",
     "text": [
      "4.003660366036604 -6.646789056361169\n"
     ]
    }
   ],
   "source": [
    "valid_pos_x = random.choice(list(set([x for x in np.linspace(-7.5, 7.6, 14000)]) - set(y for y in np.append(np.linspace(-1.5,2.5,1000), np.linspace(-2.5,-5.6,3100)))))\n",
    "valid_pos_y = random.choice(list(set([x for x in np.linspace(-5.5, 5.6, 10000)]) - set(y for y in np.append(np.linspace(-2.6,-1.7,900), np.append(np.linspace(-0.8,0.4,1200), np.append(np.linspace(1.5,2.4,900), np.linspace(3.4,4.6,1200)))))))\n",
    "\n",
    "print(valid_pos_x, valid_pos_y)\n"
   ]
  },
  {
   "cell_type": "code",
   "execution_count": 7,
   "metadata": {},
   "outputs": [
    {
     "name": "stdout",
     "output_type": "stream",
     "text": [
      "5.17843417386956 5.5966696669666955\n"
     ]
    }
   ],
   "source": [
    "print(valid_pos_x, valid_pos_y)"
   ]
  },
  {
   "cell_type": "code",
   "execution_count": 6,
   "metadata": {},
   "outputs": [],
   "source": [
    "azimuthDeg = [-3.0, -3.0, -3.0, -3.0, -3.0, -3.0, -3.0, -3.0, -3.0, -3.0, -3.0, -3.0, -3.0, -3.0, -3.0, -3.0, -3.0, -3.0, -3.0, -3.0, -3.0, -3.0, -3.0, -3.0, -3.0, -3.0, -3.0, -3.0, -3.0, -3.0, -3.0, -3.0, -1.0, -1.0, -1.0, -1.0, -1.0, -1.0, -1.0, -1.0, -1.0, -1.0, -1.0, -1.0, -1.0, -1.0, -1.0, -1.0, -1.0, -1.0, -1.0, -1.0, -1.0, -1.0, -1.0, -1.0, -1.0, -1.0, -1.0, -1.0, -1.0, -1.0, -1.0, -1.0, 1.0, 1.0, 1.0, 1.0, 1.0, 1.0, 1.0, 1.0, 1.0, 1.0, 1.0, 1.0, 1.0, 1.0, 1.0, 1.0, 1.0, 1.0, 1.0, 1.0, 1.0, 1.0, 1.0, 1.0, 1.0, 1.0, 1.0, 1.0, 1.0, 1.0, 1.0, 1.0, 3.0, 3.0, 3.0, 3.0, 3.0, 3.0, 3.0, 3.0, 3.0, 3.0, 3.0, 3.0, 3.0, 3.0, 3.0, 3.0, 3.0, 3.0, 3.0, 3.0, 3.0, 3.0, 3.0, 3.0, 3.0, 3.0, 3.0, 3.0, 3.0, 3.0, 3.0, 3.0]\n",
    "elevationDeg = [-15.0, -14.19, -13.39, -12.58, -11.77, -10.97, -10.16, -9.35, -8.55, -7.74, -6.94, -6.13, -5.32, -4.52, -3.71, -2.9, -2.1, -1.29, -0.48, 0.32, 1.13, 1.94, 2.74, 3.55, 4.35, 5.16, 5.97, 6.77, 7.58, 8.39, 9.19, 10.0, -15.0, -14.19, -13.39, -12.58, -11.77, -10.97, -10.16, -9.35, -8.55, -7.74, -6.94, -6.13, -5.32, -4.52, -3.71, -2.9, -2.1, -1.29, -0.48, 0.32, 1.13, 1.94, 2.74, 3.55, 4.35, 5.16, 5.97, 6.77, 7.58, 8.39, 9.19, 10.0, -15.0, -14.19, -13.39, -12.58, -11.77, -10.97, -10.16, -9.35, -8.55, -7.74, -6.94, -6.13, -5.32, -4.52, -3.71, -2.9, -2.1, -1.29, -0.48, 0.32, 1.13, 1.94, 2.74, 3.55, 4.35, 5.16, 5.97, 6.77, 7.58, 8.39, 9.19, 10.0, -15.0, -14.19, -13.39, -12.58, -11.77, -10.97, -10.16, -9.35, -8.55, -7.74, -6.94, -6.13, -5.32, -4.52, -3.71, -2.9, -2.1, -1.29, -0.48, 0.32, 1.13, 1.94, 2.74, 3.55, 4.35, 5.16, 5.97, 6.77, 7.58, 8.39, 9.19, 10.0]\n",
    "fireTimeNs = [0, 0, 0, 0, 0, 0, 0, 0, 0, 0, 0, 0, 0, 0, 0, 0, 3500, 3500, 3500, 3500, 3500, 3500, 3500, 3500, 3500, 3500, 3500, 3500, 3500, 3500, 3500, 3500, 7000, 7000, 7000, 7000, 7000, 7000, 7000, 7000, 7000, 7000, 7000, 7000, 7000, 7000, 7000, 7000, 10500, 10500, 10500, 10500, 10500, 10500, 10500, 10500, 10500, 10500, 10500, 10500, 10500, 10500, 10500, 10500, 14000, 14000, 14000, 14000, 14000, 14000, 14000, 14000, 14000, 14000, 14000, 14000, 14000, 14000, 14000, 14000, 17500, 17500, 17500, 17500, 17500, 17500, 17500, 17500, 17500, 17500, 17500, 17500, 17500, 17500, 17500, 17500, 21000, 21000, 21000, 21000, 21000, 21000, 21000, 21000, 21000, 21000, 21000, 21000, 21000, 21000, 21000, 21000, 24500, 24500, 24500, 24500, 24500, 24500, 24500, 24500, 24500, 24500, 24500, 24500, 24500, 24500, 24500, 24500]      "
   ]
  },
  {
   "cell_type": "code",
   "execution_count": 10,
   "metadata": {},
   "outputs": [
    {
     "name": "stdout",
     "output_type": "stream",
     "text": [
      "[0.0, 0.0, 0.0, 0.0, 0.0, 0.0, 0.0, 0.0, 0.0, 0.0, 0.0, 0.0, 0.0, 0.0, 0.0, 0.0, 0.0, 0.0, 0.0, 0.0, 0.0, 0.0, 0.0, 0.0, 0.0, 0.0, 0.0, 0.0, 0.0, 0.0, 0.0, 0.0, 0.0, 0.0, 0.0, 0.0, 0.0, 0.0, 0.0, 0.0, 0.0, 0.0, 0.0, 0.0, 0.0, 0.0, 0.0, 0.0, 0.0, 0.0, 0.0, 0.0, 0.0, 0.0, 0.0, 0.0, 0.0, 0.0, 0.0, 0.0, 0.0, 0.0, 0.0, 0.0, 0.0, 0.0, 0.0, 0.0, 0.0, 0.0, 0.0, 0.0, 0.0, 0.0, 0.0, 0.0, 0.0, 0.0, 0.0, 0.0, 0.0, 0.0, 0.0, 0.0, 0.0, 0.0, 0.0, 0.0, 0.0, 0.0, 0.0, 0.0, 0.0, 0.0, 0.0, 0.0, 0.0, 0.0, 0.0, 0.0, 0.0, 0.0, 0.0, 0.0, 0.0, 0.0, 0.0, 0.0, 0.0, 0.0, 0.0, 0.0, 0.0, 0.0, 0.0, 0.0, 0.0, 0.0, 0.0, 0.0, 0.0, 0.0, 0.0, 0.0, 0.0, 0.0, 0.0, 0.0]\n"
     ]
    }
   ],
   "source": [
    "import numpy as np\n",
    "print(list(np.zeros(128)))"
   ]
  },
  {
   "cell_type": "code",
   "execution_count": 1,
   "metadata": {},
   "outputs": [
    {
     "data": {
      "text/plain": [
       "array([4. , 2.5, 2. ])"
      ]
     },
     "execution_count": 1,
     "metadata": {},
     "output_type": "execute_result"
    }
   ],
   "source": [
    "import numpy as np\n",
    "\n",
    "a = np.array([1, 2, 3])\n",
    "b = np.array([4, 5, 6])\n",
    "\n",
    "b/a"
   ]
  },
  {
   "cell_type": "code",
   "execution_count": 3,
   "metadata": {},
   "outputs": [
    {
     "name": "stdout",
     "output_type": "stream",
     "text": [
      "<class 'numpy.int16'>\n"
     ]
    }
   ],
   "source": [
    "import numpy as np\n",
    "\n",
    "print(np.int16)"
   ]
  },
  {
   "cell_type": "code",
   "execution_count": 18,
   "metadata": {},
   "outputs": [
    {
     "name": "stdout",
     "output_type": "stream",
     "text": [
      "0.9219544457292886 0.6324555320336759\n",
      "0.28949891369561276\n",
      "14.474945684780637\n"
     ]
    }
   ],
   "source": [
    "a = np.array([1, 2, 0])\n",
    "b = np.array([1.4, 2.3, 0])\n",
    "c = np.array([1.2, 2.9, 0])\n",
    "\n",
    "n1 = np.linalg.norm(c - a)\n",
    "n2 = np.linalg.norm(c - b)\n",
    "print(n1, n2)\n",
    "\n",
    "d = n1 - n2\n",
    "\n",
    "print(d)\n",
    "print(d*50)"
   ]
  },
  {
   "cell_type": "code",
   "execution_count": null,
   "metadata": {},
   "outputs": [],
   "source": []
  },
  {
   "cell_type": "code",
   "execution_count": 157,
   "metadata": {},
   "outputs": [
    {
     "name": "stderr",
     "output_type": "stream",
     "text": [
      "/tmp/ipykernel_1518475/2586688196.py:8: RuntimeWarning: divide by zero encountered in log\n",
      "  vals = -(np.log(na)*2)*100\n"
     ]
    },
    {
     "data": {
      "image/png": "[encoded data removed]",
      "text/plain": [
       "<Figure size 640x480 with 1 Axes>"
      ]
     },
     "metadata": {},
     "output_type": "display_data"
    }
   ],
   "source": [
    "import matplotlib.pyplot as plt\n",
    "\n",
    "\n",
    "a = np.linspace(15,0,10000)\n",
    "# print(a)\n",
    "# val = np.exp((1/a)*0.1)\n",
    "na = (a - np.min(a))/(np.max(a) - np.min(a))\n",
    "vals = -(np.log(na)*2)*100\n",
    "# dtg = -np.exp(0.5*a)*5\n",
    "dtg = -10*(a**2)\n",
    "comb = np.zeros_like(vals) \n",
    "comb1 = np.where(a<1, vals, (dtg+vals))\n",
    "comb2 = np.where(a<2, vals, (dtg+vals))\n",
    "\n",
    "\n",
    "# plt.plot(a, val)\n",
    "# plt.show()\n",
    "# plt.plot(a[:16000], dtg[:16000])\n",
    "# # plt.show()\n",
    "# plt.plot(a[16000:-1], (vals[16000:-1]))\n",
    "# plt.yscale('log')\n",
    "plt.plot(a, comb1)\n",
    "plt.plot(a, comb2)\n",
    "plt.grid()\n",
    "plt.show()\n",
    "# plt.plot(a, comb)\n",
    "# plt.show()"
   ]
  },
  {
   "cell_type": "code",
   "execution_count": null,
   "metadata": {},
   "outputs": [],
   "source": [
    "prev_dist_to_goal = np.linalg.norm(goal_pos - prev_bot_pos)\n",
    "cur_dist_to_goal = np.linalg.norm(goal_pos - cur_bot_pos)\n",
    "    self.to_goal_rew = self.to_goal_factor * (prev_dist_to_goal - cur_dist_to_goal)\n",
    "    if self.to_goal_rew <= 0.2 :\n",
    "        self.to_goal_rew = -2\n",
    "    return self.to_goal_rew\n",
    "\n",
    "def close_to_goal_reward(cur_bot_pos, goal_pos):\n",
    "    dist_to_goal = np.linalg.norm(goal_pos - cur_bot_pos)\n",
    "    if dist_to_goal < self.goal_dist_threshold:\n",
    "        self.close_to_goal_rew = self.level_rewards[self.curriculum_level][\"goal\"]\n",
    "        return self.close_to_goal_rew\n",
    "    return 0\n",
    "\n",
    "def dist_to_goal(cur_bot_pos, goal_pos):\n",
    "    cur_dist_to_goal = np.linalg.norm(goal_pos - cur_bot_pos)\n",
    "    if cur_dist_to_goal < self.goal_dist_threshold:\n",
    "        self.dist_to_goal_rew = np.exp((1/cur_dist_to_goal))\n",
    "    else:\n",
    "        self.dist_to_goal_rew = -np.exp(self.dist_goal_factor*cur_dist_to_goal)\n",
    "    return self.dist_to_goal_rew\n",
    "\n",
    "def cosine_similarity_reward(prev_bot_pos, cur_bot_pos, goal_pos):\n",
    "    bot_vec = cur_bot_pos - prev_bot_pos\n",
    "    bot_goal_vec = goal_pos - prev_bot_pos\n",
    "    self.cosine_sim_rew = self.cosine_sim_factor * np.dot(bot_vec, bot_goal_vec) / (np.linalg.norm(bot_vec) * np.linalg.norm(bot_goal_vec))\n",
    "    if self.cosine_sim_rew < 0:\n",
    "        self.cosine_sim_rew = -1\n",
    "    return self.cosine_sim_rew"
   ]
  },
  {
   "cell_type": "code",
   "execution_count": 102,
   "metadata": {},
   "outputs": [
    {
     "name": "stdout",
     "output_type": "stream",
     "text": [
      "(10000, 3)\n",
      "(10000, 3)\n",
      "[[6.00297847 6.00297847 6.00297847]\n",
      " [6.00297847 6.00297847 6.00297847]\n",
      " [6.00297847 6.00297847 6.00297847]\n",
      " ...\n",
      " [5.95824841 5.95824841 5.95824841]\n",
      " [5.95824841 5.95824841 5.95824841]\n",
      " [5.95824841 5.95824841 5.95824841]]\n"
     ]
    }
   ],
   "source": [
    "a = np.random.uniform(-10,10, (10000,3))\n",
    "b = np.random.uniform(-7,7, (10000,3))\n",
    "goal = np.repeat(np.random.uniform(-7,7, (3,)), 10000, axis=0).reshape(10000,3)\n",
    "diff = a - b\n",
    "# goal.reshape(10000,3).shape\n",
    "print((a-b).shape)\n",
    "print((goal - a).shape)\n",
    "print(goal)"
   ]
  },
  {
   "cell_type": "code",
   "execution_count": 101,
   "metadata": {},
   "outputs": [
    {
     "data": {
      "text/plain": [
       "1.0"
      ]
     },
     "execution_count": 101,
     "metadata": {},
     "output_type": "execute_result"
    }
   ],
   "source": [
    "bot_vec = np.array([1, 1, 0]) - np.array([0, 0, 0])\n",
    "bot_goal_vec = np.array([1, 1, 0]) - np.array([-1, -1, 0])\n",
    "a = np.dot(bot_vec, bot_goal_vec) / (np.linalg.norm(bot_vec) * np.linalg.norm(bot_goal_vec))\n",
    "a"
   ]
  },
  {
   "cell_type": "code",
   "execution_count": 103,
   "metadata": {},
   "outputs": [
    {
     "name": "stderr",
     "output_type": "stream",
     "text": [
      "/tmp/ipykernel_1518475/831884155.py:17: RuntimeWarning: divide by zero encountered in log\n",
      "  close_goal = np.log(na)*100\n"
     ]
    },
    {
     "data": {
      "text/plain": [
       "<matplotlib.legend.Legend at 0x741f1cda8970>"
      ]
     },
     "execution_count": 103,
     "metadata": {},
     "output_type": "execute_result"
    },
    {
     "data": {
      "image/png": "[encoded data removed]",
      "text/plain": [
       "<Figure size 640x480 with 1 Axes>"
      ]
     },
     "metadata": {},
     "output_type": "display_data"
    }
   ],
   "source": [
    "import numpy as np\n",
    "import matplotlib.pyplot as plt\n",
    "\n",
    "a = np.linspace(15,0,10000)\n",
    "na = (a - np.min(a))/(np.max(a) - np.min(a))\n",
    "ns = np.linspace(-1, 3, 10000)\n",
    "b = a + ns\n",
    "\n",
    "to_goal_factor = 50\n",
    "cosine_sim_factor = 10\n",
    "dist_goal_factor = 0.5\n",
    "\n",
    "to_goal = diff * to_goal_factor\n",
    "# cosine_sim = (np.dot(a-goal, a-b) / (np.linalg.norm(a-goal) * np.linalg.norm(a-b))) * cosine_sim_factor\n",
    "# combined = 6*to_goal + cosine_sim\n",
    "dist_goal = -np.exp(dist_goal_factor*a)\n",
    "close_goal = np.log(na)*100\n",
    "\n",
    "plt.plot(ns, to_goal, label=\"to_goal\")\n",
    "# plt.plot(ns, cosine_sim, label=\"cosine_sim\")\n",
    "# plt.plot(a, combined, label=\"combined\")\n",
    "plt.plot(a, dist_goal, label=\"dist_goal\")\n",
    "# plt.plot(a, close_goal, label=\"close_goal\")\n",
    "plt.legend()\n"
   ]
  },
  {
   "cell_type": "code",
   "execution_count": 20,
   "metadata": {},
   "outputs": [
    {
     "name": "stdout",
     "output_type": "stream",
     "text": [
      "(128, 128)\n",
      "(128, 128)\n",
      "(128, 128)\n",
      "(128, 128)\n",
      "(128, 128)\n"
     ]
    },
    {
     "data": {
      "text/plain": [
       "torch.Size([5, 128, 128])"
      ]
     },
     "execution_count": 20,
     "metadata": {},
     "output_type": "execute_result"
    }
   ],
   "source": [
    "from collections import deque\n",
    "import numpy as np\n",
    "import torch\n",
    "\n",
    "a = deque(np.random.randn(5,128,128),maxlen=5)\n",
    "tmp = []\n",
    "for t in a:\n",
    "    # t = np.expand_dims(t, axis=0)\n",
    "    tmp.append(t)\n",
    "    print(t.shape)\n",
    "\n",
    "b = torch.tensor(np.array(tmp))"
   ]
  },
  {
   "cell_type": "code",
   "execution_count": 21,
   "metadata": {},
   "outputs": [
    {
     "data": {
      "text/plain": [
       "(3, 128, 128)"
      ]
     },
     "execution_count": 21,
     "metadata": {},
     "output_type": "execute_result"
    }
   ],
   "source": [
    "image = np.random.randn(128,128)\n",
    "three_channel_image = np.stack([image] * 3, axis=0)\n",
    "\n",
    "three_channel_image.shape"
   ]
  },
  {
   "cell_type": "code",
   "execution_count": 17,
   "metadata": {},
   "outputs": [
    {
     "name": "stdout",
     "output_type": "stream",
     "text": [
      "Collecting torch-summary\n",
      "  Downloading torch_summary-1.4.5-py3-none-any.whl.metadata (18 kB)\n",
      "Downloading torch_summary-1.4.5-py3-none-any.whl (16 kB)\n",
      "Installing collected packages: torch-summary\n",
      "Successfully installed torch-summary-1.4.5\n"
     ]
    }
   ],
   "source": [
    "!pip install torch-summary\n"
   ]
  },
  {
   "cell_type": "code",
   "execution_count": 24,
   "metadata": {},
   "outputs": [
    {
     "ename": "ModuleNotFoundError",
     "evalue": "No module named 'torchsummary'",
     "output_type": "error",
     "traceback": [
      "\u001b[0;31m---------------------------------------------------------------------------\u001b[0m",
      "\u001b[0;31mModuleNotFoundError\u001b[0m                       Traceback (most recent call last)",
      "Cell \u001b[0;32mIn[24], line 4\u001b[0m\n\u001b[1;32m      2\u001b[0m \u001b[38;5;28;01mimport\u001b[39;00m \u001b[38;5;21;01mtorch\u001b[39;00m \u001b[38;5;28;01mas\u001b[39;00m \u001b[38;5;21;01mth\u001b[39;00m\n\u001b[1;32m      3\u001b[0m \u001b[38;5;28;01mimport\u001b[39;00m \u001b[38;5;21;01mnumpy\u001b[39;00m \u001b[38;5;28;01mas\u001b[39;00m \u001b[38;5;21;01mnp\u001b[39;00m\n\u001b[0;32m----> 4\u001b[0m \u001b[38;5;28;01mfrom\u001b[39;00m \u001b[38;5;21;01mtorchsummary\u001b[39;00m \u001b[38;5;28;01mimport\u001b[39;00m summary\n\u001b[1;32m      6\u001b[0m n_input_channels \u001b[38;5;241m=\u001b[39m \u001b[38;5;241m3\u001b[39m\n\u001b[1;32m      7\u001b[0m n_flatten_size \u001b[38;5;241m=\u001b[39m \u001b[38;5;241m1024\u001b[39m\n",
      "\u001b[0;31mModuleNotFoundError\u001b[0m: No module named 'torchsummary'"
     ]
    }
   ],
   "source": [
    "import torch.nn as nn\n",
    "import torch as th\n",
    "import numpy as np\n",
    "from torchsummary import summary\n",
    "\n",
    "n_input_channels = 3\n",
    "n_flatten_size = 1024\n",
    "arch = nn.Sequential(\n",
    "    nn.Conv2d(n_input_channels, 32, kernel_size=8, stride=4, padding=0),\n",
    "    nn.ReLU(),\n",
    "    nn.Conv2d(32, 64, kernel_size=4, stride=2, padding=0),\n",
    "    nn.ReLU(),\n",
    "    nn.Conv2d(64, 64, kernel_size=3, stride=1, padding=0),\n",
    "    nn.ReLU(),\n",
    "    nn.Conv2d(64, 128, kernel_size=3, stride=1, padding=0),\n",
    "    nn.MaxPool2d(kernel_size=3, stride=1, padding=0),\n",
    "    nn.ReLU(),\n",
    "    nn.Conv2d(128, 128, kernel_size=3, stride=1, padding=0),\n",
    "    nn.MaxPool2d(kernel_size=2, stride=1, padding=0),\n",
    "    nn.ReLU(),\n",
    "    nn.Conv2d(128, 256, kernel_size=3, stride=1, padding=0),\n",
    "    nn.MaxPool2d(kernel_size=2, stride=1, padding=0),\n",
    "    nn.ReLU(),\n",
    "    nn.Flatten(),\n",
    "    nn.LSTM(n_flatten_size, 256, num_layers=2)\n",
    "    )\n",
    "\n",
    "summary(arch, (3,128,128))\n",
    "\n",
    "\n",
    "# print(n_flatten)\n",
    "\n",
    "# self.linear = nn.Sequential(nn.Linear(n_flatten, cnn_output_dim), nn.ReLU())\n",
    "# total_concat_size += cnn_output_dim"
   ]
  },
  {
   "cell_type": "code",
   "execution_count": 25,
   "metadata": {},
   "outputs": [
    {
     "ename": "NameError",
     "evalue": "name 'summary' is not defined",
     "output_type": "error",
     "traceback": [
      "\u001b[0;31m---------------------------------------------------------------------------\u001b[0m",
      "\u001b[0;31mNameError\u001b[0m                                 Traceback (most recent call last)",
      "Cell \u001b[0;32mIn[25], line 12\u001b[0m\n\u001b[1;32m      1\u001b[0m mlp_arch \u001b[38;5;241m=\u001b[39m nn\u001b[38;5;241m.\u001b[39mSequential(\n\u001b[1;32m      2\u001b[0m                         nn\u001b[38;5;241m.\u001b[39mLinear(\u001b[38;5;241m12\u001b[39m, \u001b[38;5;241m256\u001b[39m),\n\u001b[1;32m      3\u001b[0m                         nn\u001b[38;5;241m.\u001b[39mReLU(),\n\u001b[0;32m   (...)\u001b[0m\n\u001b[1;32m      9\u001b[0m                         nn\u001b[38;5;241m.\u001b[39mReLU()\n\u001b[1;32m     10\u001b[0m                     )\n\u001b[0;32m---> 12\u001b[0m \u001b[43msummary\u001b[49m(mlp_arch, (\u001b[38;5;241m12\u001b[39m,))\n",
      "\u001b[0;31mNameError\u001b[0m: name 'summary' is not defined"
     ]
    }
   ],
   "source": [
    "mlp_arch = nn.Sequential(\n",
    "                        nn.Linear(12, 256),\n",
    "                        nn.ReLU(),\n",
    "                        nn.Linear(256, 512),\n",
    "                        nn.ReLU(),\n",
    "                        nn.Linear(512, 512),\n",
    "                        nn.ReLU(),\n",
    "                        nn.Linear(512, 256),\n",
    "                        nn.ReLU()\n",
    "                    )\n",
    "\n",
    "summary(mlp_arch, (12,))"
   ]
  },
  {
   "cell_type": "code",
   "execution_count": 74,
   "metadata": {},
   "outputs": [
    {
     "name": "stdout",
     "output_type": "stream",
     "text": [
      "==========================================================================================\n",
      "Layer (type:depth-idx)                   Output Shape              Param #\n",
      "==========================================================================================\n",
      "├─Linear: 1-1                            [-1, 256]                 3,328\n",
      "├─ReLU: 1-2                              [-1, 256]                 --\n",
      "├─Linear: 1-3                            [-1, 512]                 131,584\n",
      "├─ReLU: 1-4                              [-1, 512]                 --\n",
      "├─Linear: 1-5                            [-1, 1024]                525,312\n",
      "├─ReLU: 1-6                              [-1, 1024]                --\n",
      "├─Linear: 1-7                            [-1, 512]                 524,800\n",
      "├─ReLU: 1-8                              [-1, 512]                 --\n",
      "├─LSTM: 1-9                              [-1, 128]                 460,800\n",
      "==========================================================================================\n",
      "Total params: 1,645,824\n",
      "Trainable params: 1,645,824\n",
      "Non-trainable params: 0\n",
      "Total mult-adds (M): 1.64\n",
      "==========================================================================================\n",
      "Input size (MB): 0.00\n",
      "Forward/backward pass size (MB): 0.02\n",
      "Params size (MB): 6.28\n",
      "Estimated Total Size (MB): 6.30\n",
      "==========================================================================================\n"
     ]
    },
    {
     "data": {
      "text/plain": [
       "==========================================================================================\n",
       "Layer (type:depth-idx)                   Output Shape              Param #\n",
       "==========================================================================================\n",
       "├─Linear: 1-1                            [-1, 256]                 3,328\n",
       "├─ReLU: 1-2                              [-1, 256]                 --\n",
       "├─Linear: 1-3                            [-1, 512]                 131,584\n",
       "├─ReLU: 1-4                              [-1, 512]                 --\n",
       "├─Linear: 1-5                            [-1, 1024]                525,312\n",
       "├─ReLU: 1-6                              [-1, 1024]                --\n",
       "├─Linear: 1-7                            [-1, 512]                 524,800\n",
       "├─ReLU: 1-8                              [-1, 512]                 --\n",
       "├─LSTM: 1-9                              [-1, 128]                 460,800\n",
       "==========================================================================================\n",
       "Total params: 1,645,824\n",
       "Trainable params: 1,645,824\n",
       "Non-trainable params: 0\n",
       "Total mult-adds (M): 1.64\n",
       "==========================================================================================\n",
       "Input size (MB): 0.00\n",
       "Forward/backward pass size (MB): 0.02\n",
       "Params size (MB): 6.28\n",
       "Estimated Total Size (MB): 6.30\n",
       "=========================================================================================="
      ]
     },
     "execution_count": 74,
     "metadata": {},
     "output_type": "execute_result"
    }
   ],
   "source": [
    "mlp_arch = nn.Sequential(\n",
    "                        nn.Linear(12, 256),\n",
    "                        nn.ReLU(),\n",
    "                        nn.Linear(256, 512),\n",
    "                        nn.ReLU(),\n",
    "                        nn.Linear(512, 1024),\n",
    "                        nn.ReLU(),\n",
    "                        nn.Linear(1024, 512),\n",
    "                        nn.ReLU(),\n",
    "                        nn.LSTM(512, 128, num_layers=2)\n",
    "                    )\n",
    "summary(mlp_arch, (12,))"
   ]
  },
  {
   "cell_type": "code",
   "execution_count": 91,
   "metadata": {},
   "outputs": [
    {
     "ename": "ValueError",
     "evalue": "zero-dimensional arrays cannot be concatenated",
     "output_type": "error",
     "traceback": [
      "\u001b[0;31m---------------------------------------------------------------------------\u001b[0m",
      "\u001b[0;31mValueError\u001b[0m                                Traceback (most recent call last)",
      "Cell \u001b[0;32mIn[91], line 2\u001b[0m\n\u001b[1;32m      1\u001b[0m l \u001b[38;5;241m=\u001b[39m [\u001b[38;5;241m1\u001b[39m,\u001b[38;5;241m2\u001b[39m,\u001b[38;5;241m3\u001b[39m,\u001b[38;5;241m4\u001b[39m]\n\u001b[0;32m----> 2\u001b[0m a \u001b[38;5;241m=\u001b[39m \u001b[43mnp\u001b[49m\u001b[38;5;241;43m.\u001b[39;49m\u001b[43mconcatenate\u001b[49m\u001b[43m(\u001b[49m\u001b[43mnp\u001b[49m\u001b[38;5;241;43m.\u001b[39;49m\u001b[43marray\u001b[49m\u001b[43m(\u001b[49m\u001b[43ml\u001b[49m\u001b[43m)\u001b[49m\u001b[43m)\u001b[49m\n",
      "\u001b[0;31mValueError\u001b[0m: zero-dimensional arrays cannot be concatenated"
     ]
    }
   ],
   "source": [
    "l = [1,2,3,4]\n",
    "a = np.concatenate(np.array(l))"
   ]
  },
  {
   "cell_type": "code",
   "execution_count": 110,
   "metadata": {},
   "outputs": [
    {
     "data": {
      "text/plain": [
       "torch.Size([1280, 3, 128, 128])"
      ]
     },
     "execution_count": 110,
     "metadata": {},
     "output_type": "execute_result"
    }
   ],
   "source": [
    "t = th.tensor(np.zeros((256, 5,3,128,128)))\n",
    "\n",
    "t.view(-1, 3, 128, 128).shape"
   ]
  },
  {
   "cell_type": "code",
   "execution_count": 98,
   "metadata": {},
   "outputs": [
    {
     "name": "stdout",
     "output_type": "stream",
     "text": [
      "[array([0., 0.]), array([0., 0., 0., 0.]), array([0., 0.]), array([0., 0.]), array([0., 0.])]\n",
      "[0. 0. 0. 0. 0. 0. 0. 0. 0. 0. 0. 0.]\n",
      "[array([0., 0.]), array([0., 0., 0., 0.]), array([0., 0.]), array([0., 0.]), array([0., 0.])]\n",
      "[0. 0. 0. 0. 0. 0. 0. 0. 0. 0. 0. 0.]\n",
      "[array([0., 0.]), array([0., 0., 0., 0.]), array([0., 0.]), array([0., 0.]), array([0., 0.])]\n",
      "[0. 0. 0. 0. 0. 0. 0. 0. 0. 0. 0. 0.]\n",
      "[array([0., 0.]), array([0., 0., 0., 0.]), array([0., 0.]), array([0., 0.]), array([0., 0.])]\n",
      "[0. 0. 0. 0. 0. 0. 0. 0. 0. 0. 0. 0.]\n",
      "[array([0., 0.]), array([0., 0., 0., 0.]), array([0., 0.]), array([0., 0.]), array([0., 0.])]\n",
      "[0. 0. 0. 0. 0. 0. 0. 0. 0. 0. 0. 0.]\n",
      "[array([0., 0.]), array([0., 0., 0., 0.]), array([0., 0.]), array([0., 0.]), array([0., 0.])]\n",
      "[0. 0. 0. 0. 0. 0. 0. 0. 0. 0. 0. 0.]\n",
      "[array([0., 0.]), array([0., 0., 0., 0.]), array([0., 0.]), array([0., 0.]), array([0., 0.])]\n",
      "[0. 0. 0. 0. 0. 0. 0. 0. 0. 0. 0. 0.]\n",
      "[array([0., 0.]), array([0., 0., 0., 0.]), array([0., 0.]), array([0., 0.]), array([0., 0.])]\n",
      "[0. 0. 0. 0. 0. 0. 0. 0. 0. 0. 0. 0.]\n",
      "[array([0., 0.]), array([0., 0., 0., 0.]), array([0., 0.]), array([0., 0.]), array([0., 0.])]\n",
      "[0. 0. 0. 0. 0. 0. 0. 0. 0. 0. 0. 0.]\n",
      "[array([0., 0.]), array([0., 0., 0., 0.]), array([0., 0.]), array([0., 0.]), array([0., 0.])]\n",
      "[0. 0. 0. 0. 0. 0. 0. 0. 0. 0. 0. 0.]\n"
     ]
    }
   ],
   "source": [
    "from collections import deque\n",
    "\n",
    "# mlp_dummy = [np.array([0.0, -4.0]), np.array([1.0, 0.0, 0.0, 0.0]), np.array([-0.234, 1.24]), np.array([0.0987, 0.12345]), np.array([0.0, 0.0])]\n",
    "\n",
    "mlp_zeros = [np.zeros(2), np.zeros(4), np.zeros(2), np.zeros(2), np.zeros(2)]\n",
    "\n",
    "mlp_context_frame = deque([mlp_zeros for _ in range(10)], maxlen=10)\n",
    "\n",
    "total_context = []\n",
    "for context in mlp_context_frame:\n",
    "    print(context)\n",
    "    # print(context.shape)\n",
    "    t = np.concatenate(context)\n",
    "    print(t)\n",
    "    total_context.append(np.concatenate(context))\n",
    "tmp = th.tensor(np.array(total_context, dtype=np.float32))"
   ]
  }
 ],
 "metadata": {
  "kernelspec": {
   "display_name": "env_isaacsim",
   "language": "python",
   "name": "python3"
  },
  "language_info": {
   "codemirror_mode": {
    "name": "ipython",
    "version": 3
   },
   "file_extension": ".py",
   "mimetype": "text/x-python",
   "name": "python",
   "nbconvert_exporter": "python",
   "pygments_lexer": "ipython3",
   "version": "3.12.5"
  }
 },
 "nbformat": 4,
 "nbformat_minor": 2
}
