{
 "cells": [
  {
   "cell_type": "code",
   "execution_count": 6,
   "metadata": {},
   "outputs": [
    {
     "data": {
      "application/vnd.jupyter.widget-view+json": {
       "model_id": "191d2d8ee45b45549d40bffe632937be",
       "version_major": 2,
       "version_minor": 0
      },
      "text/plain": [
       "HBox(children=(Play(value=0, description='Play', max=200), IntSlider(value=0, continuous_update=False, descrip…"
      ]
     },
     "metadata": {},
     "output_type": "display_data"
    },
    {
     "data": {
      "image/png": "[encoded data removed]",
      "text/plain": [
       "<Figure size 1000x800 with 2 Axes>"
      ]
     },
     "metadata": {},
     "output_type": "display_data"
    }
   ],
   "source": [
    "import numpy as np\n",
    "import matplotlib.pyplot as plt\n",
    "from IPython.display import display\n",
    "import ipywidgets as widgets\n",
    "import glob\n",
    "import os\n",
    "\n",
    "def create_interactive_animation(directory_path):\n",
    "    # Get all numpy files in the directory\n",
    "    files = sorted(glob.glob(os.path.join(directory_path, '*.npy')))\n",
    "    \n",
    "    if not files:\n",
    "        raise ValueError(\"No .npy files found in the specified directory\")\n",
    "    \n",
    "    # Create figure and axis\n",
    "    fig, ax = plt.subplots(figsize=(10, 8))\n",
    "    \n",
    "    # Load and display first image\n",
    "    image = np.load(files[0])\n",
    "    image = np.transpose(image, (1, 2, 0))\n",
    "    img_display = ax.imshow(image)\n",
    "    plt.colorbar(img_display)\n",
    "    \n",
    "    # Frame counter text\n",
    "    frame_text = ax.text(0.02, 0.95, 'Frame: 0', transform=ax.transAxes, color='white')\n",
    "    \n",
    "    # Create widgets\n",
    "    play_button = widgets.Play(\n",
    "        value=0,\n",
    "        min=0,\n",
    "        max=len(files)-1,\n",
    "        step=1,\n",
    "        description=\"Play\",\n",
    "        interval=100\n",
    "    )\n",
    "    \n",
    "    slider = widgets.IntSlider(\n",
    "        value=0,\n",
    "        min=0,\n",
    "        max=len(files)-1,\n",
    "        step=1,\n",
    "        description='Frame:',\n",
    "        continuous_update=False\n",
    "    )\n",
    "    \n",
    "    # Link play button to slider\n",
    "    widgets.jslink((play_button, 'value'), (slider, 'value'))\n",
    "    \n",
    "    def update(change):\n",
    "        # Get the current frame number\n",
    "        frame = change['new']\n",
    "        \n",
    "        # Load and display the image\n",
    "        image = np.load(files[frame])\n",
    "        image = np.transpose(image, (1, 2, 0))\n",
    "        img_display.set_array(image)\n",
    "        \n",
    "        # Update frame counter\n",
    "        frame_text.set_text(f'Frame: {frame}/{len(files)-1}')\n",
    "        \n",
    "        # Update display\n",
    "        fig.canvas.draw_idle()\n",
    "    \n",
    "    # Connect the slider to the update function\n",
    "    slider.observe(update, names='value')\n",
    "    \n",
    "    # Display widgets and plot\n",
    "    controls = widgets.HBox([play_button, slider])\n",
    "    display(controls)\n",
    "    plt.show()\n",
    "\n",
    "# Usage example\n",
    "directory_path = \"/home/rahm/TEST/IMG\"\n",
    "create_interactive_animation(directory_path)"
   ]
  },
  {
   "cell_type": "code",
   "execution_count": null,
   "metadata": {},
   "outputs": [],
   "source": []
  }
 ],
 "metadata": {
  "kernelspec": {
   "display_name": "env_isaacsim",
   "language": "python",
   "name": "python3"
  },
  "language_info": {
   "codemirror_mode": {
    "name": "ipython",
    "version": 3
   },
   "file_extension": ".py",
   "mimetype": "text/x-python",
   "name": "python",
   "nbconvert_exporter": "python",
   "pygments_lexer": "ipython3",
   "version": "3.10.15"
  }
 },
 "nbformat": 4,
 "nbformat_minor": 2
}
